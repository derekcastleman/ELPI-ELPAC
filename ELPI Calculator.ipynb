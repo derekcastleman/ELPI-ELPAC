{
 "cells": [
  {
   "cell_type": "markdown",
   "id": "247d92c7",
   "metadata": {},
   "source": [
    "## ELPI Calculator\n",
    "\n",
    "For this Python program you will use the file that was generated at the end of the Merging ELPAC Program. Make sure that you have looked up students who are missing their past score in Aeries so that you have a complete data set.\n",
    "\n",
    "Various inputs will be asked determing what grade levels want to be looked at as well as subgroups that will be applied to the data to filter it out.\n",
    "\n",
    "The level that the students are at will be calculated based on this years grade level and the one they were in the past. Then the students who have shown improvement will be totaled up and the ELPI for what is selected will be calculated. The table for ELPI will be created as well through the process. A file with the students levels will be generated as well another file that has the table."
   ]
  },
  {
   "cell_type": "code",
   "execution_count": null,
   "id": "5d21cb15",
   "metadata": {},
   "outputs": [],
   "source": [
    "import numpy as np\n",
    "import pandas as pd"
   ]
  },
  {
   "cell_type": "code",
   "execution_count": null,
   "id": "3cfa3837",
   "metadata": {},
   "outputs": [],
   "source": [
    "# Loading in ELPAC scores\n",
    "elpac_scores = pd.read_csv(r\"C:\\Users\\derek.castleman\\Desktop\\Elpac Combined Lost Hills.csv\")\n",
    "\n",
    "# LIST STU CID SPECIALED (include inactive students in query)\n",
    "\n",
    "sped = pd.read_excel(r\"C:\\Users\\derek.castleman\\Desktop\\SPED (2).xlsx\")\n",
    "\n",
    "elpac_scores"
   ]
  },
  {
   "cell_type": "code",
   "execution_count": null,
   "id": "4f074ed9",
   "metadata": {},
   "outputs": [],
   "source": [
    "elpac_scores = elpac_scores.drop_duplicates(subset='SSID', keep='first') # Dropping any duplicates\n",
    "elpac_scores"
   ]
  },
  {
   "cell_type": "code",
   "execution_count": null,
   "id": "cd7f10b7",
   "metadata": {},
   "outputs": [],
   "source": [
    "# Input the most recent year of interest for the tests\n",
    "a = input('What is the current year of the test that you are interested in (2023, 2024, 2025, etc)?          ')\n",
    "a"
   ]
  },
  {
   "cell_type": "code",
   "execution_count": null,
   "id": "7323c17c",
   "metadata": {},
   "outputs": [],
   "source": [
    "# Turns the year of interest from a string into a datetime\n",
    "from datetime import datetime\n",
    "\n",
    "date_str = a\n",
    "date_format = '%Y'\n",
    "date_obj = datetime.strptime(date_str, date_format)\n",
    "date_obj"
   ]
  },
  {
   "cell_type": "code",
   "execution_count": null,
   "id": "2698ab2c",
   "metadata": {},
   "outputs": [],
   "source": [
    "# Finds the previous year to compare the current year to\n",
    "from dateutil.relativedelta import relativedelta\n",
    "one_year_ago = date_obj - relativedelta(years=1)\n",
    "one_year_ago"
   ]
  },
  {
   "cell_type": "code",
   "execution_count": null,
   "id": "af3187ee",
   "metadata": {},
   "outputs": [],
   "source": [
    "# Turns the previous year into a string\n",
    "b = one_year_ago.strftime('%Y')\n",
    "b"
   ]
  },
  {
   "cell_type": "code",
   "execution_count": null,
   "id": "178712cc",
   "metadata": {},
   "outputs": [],
   "source": [
    "# Creating labels for each of the variables of concern in the code\n",
    "w = a + ' Score'\n",
    "x = b + ' Score'\n",
    "y = a + ' Level'\n",
    "z = b + ' Level'\n",
    "w"
   ]
  },
  {
   "cell_type": "code",
   "execution_count": null,
   "id": "d901ca3f",
   "metadata": {},
   "outputs": [],
   "source": [
    "# Input the grade levels that you are interested in\n",
    "g = input('What level are you interested in (Elementary, Secondary, All)?          ')\n",
    "g"
   ]
  },
  {
   "cell_type": "code",
   "execution_count": null,
   "id": "55e3d2df",
   "metadata": {},
   "outputs": [],
   "source": [
    "if g == 'All': #Keeps all scores\n",
    "    elpac_scores = elpac_scores\n",
    "elif g == 'Elementary': # Selects just the elementary grades\n",
    "    elpac_scores = elpac_scores[(elpac_scores['GradeAssessed'] == 1) | (elpac_scores['GradeAssessed'] == 2) |\n",
    "                               (elpac_scores['GradeAssessed'] == 3) | (elpac_scores['GradeAssessed'] == 4) | \n",
    "                               (elpac_scores['GradeAssessed'] == 5) | (elpac_scores['GradeAssessed'] == 6)]\n",
    "elif g == 'Secondary': #Selects just the secondary grades\n",
    "    elpac_scores = elpac_scores[(elpac_scores['GradeAssessed'] == 7) | (elpac_scores['GradeAssessed'] == 8) |\n",
    "                               (elpac_scores['GradeAssessed'] == 9) | (elpac_scores['GradeAssessed'] == 10) | \n",
    "                               (elpac_scores['GradeAssessed'] == 11) | (elpac_scores['GradeAssessed'] == 12)]"
   ]
  },
  {
   "cell_type": "code",
   "execution_count": null,
   "id": "4046a364",
   "metadata": {},
   "outputs": [],
   "source": [
    "# Input if you want All or SPED students\n",
    "m = input('What group are you interested in (All or SPED)?          ')\n",
    "m"
   ]
  },
  {
   "cell_type": "code",
   "execution_count": null,
   "id": "d4c1abbb",
   "metadata": {},
   "outputs": [],
   "source": [
    "sped"
   ]
  },
  {
   "cell_type": "code",
   "execution_count": null,
   "id": "45330c76",
   "metadata": {},
   "outputs": [],
   "source": [
    "if m == 'SPED': # Merges SPED to filter data down to just the SPED students\n",
    "    sped = sped[sped['SPECIALED Value'] == \"Yes\"]\n",
    "    elpac_scores = pd.merge(elpac_scores, sped, how='inner', left_on='SSID', right_on = 'State Student ID')\n",
    "    elpac_scores = elpac_scores.drop(columns=['State Student ID', 'SPECIALED Value'])\n",
    "else:\n",
    "    pass"
   ]
  },
  {
   "cell_type": "code",
   "execution_count": null,
   "id": "26f95d2e",
   "metadata": {},
   "outputs": [],
   "source": [
    "elpac_scores"
   ]
  },
  {
   "cell_type": "markdown",
   "id": "10c1d897",
   "metadata": {},
   "source": [
    "## Generating Levels\n",
    "\n",
    "For this portion each grade will be selected since they have different ranges for what test level they will be in the end. The level for the current years will be calculated. Then the level for the previous year will be calculated using the date ranges that apply to the previous grade level for the student."
   ]
  },
  {
   "cell_type": "code",
   "execution_count": null,
   "id": "68caf8f3",
   "metadata": {},
   "outputs": [],
   "source": [
    "third = elpac_scores[elpac_scores['GradeAssessed'] == 3]\n",
    "third"
   ]
  },
  {
   "cell_type": "code",
   "execution_count": null,
   "id": "dfc5f095",
   "metadata": {},
   "outputs": [],
   "source": [
    "# Creating a function that gives the level for the student based on their score\n",
    "def f(row):\n",
    "    if row[w] <= 1447: \n",
    "        val = \"1\"\n",
    "    elif row[w] >= 1448 and row[w] <= 1467:\n",
    "        val = \"2L\"\n",
    "    elif row[w] >= 1468 and row[w] <= 1487:\n",
    "        val = \"2H\"\n",
    "    elif row[w] >= 1488 and row[w] <= 1510:\n",
    "        val = '3L'\n",
    "    elif row[w] >= 1511 and row[w] <= 1534:\n",
    "        val = '3H'\n",
    "    else:\n",
    "        val = '4'\n",
    "    return val"
   ]
  },
  {
   "cell_type": "code",
   "execution_count": null,
   "id": "7d9cabbf",
   "metadata": {},
   "outputs": [],
   "source": [
    "if len(third) > 0: # If third grade exists in data then function will be applied to it.\n",
    "    third[y] = third.apply(f, axis=1)\n",
    "else:\n",
    "    pass\n",
    "third"
   ]
  },
  {
   "cell_type": "code",
   "execution_count": null,
   "id": "b06c4c6b",
   "metadata": {},
   "outputs": [],
   "source": [
    "def g(row):\n",
    "    if row[x] <= 1423: \n",
    "        val = \"1\"\n",
    "    elif row[x] >= 1424 and row[x] <= 1446:\n",
    "        val = \"2L\"\n",
    "    elif row[x] >= 1447 and row[x] <= 1470:\n",
    "        val = \"2H\"\n",
    "    elif row[x] >= 1471 and row[x] <= 1500:\n",
    "        val = '3L'\n",
    "    elif row[x] >= 1501 and row[x] <= 1531:\n",
    "        val = '3H'\n",
    "    else:\n",
    "        val = '4'\n",
    "    return val"
   ]
  },
  {
   "cell_type": "code",
   "execution_count": null,
   "id": "a1d3a454",
   "metadata": {},
   "outputs": [],
   "source": [
    "if len(third) > 0:\n",
    "    third[z] = third.apply(g, axis=1)\n",
    "else: pass"
   ]
  },
  {
   "cell_type": "code",
   "execution_count": null,
   "id": "06e323d1",
   "metadata": {},
   "outputs": [],
   "source": [
    "fourth = elpac_scores[elpac_scores['GradeAssessed'] == 4]\n",
    "fourth"
   ]
  },
  {
   "cell_type": "code",
   "execution_count": null,
   "id": "ae81425f",
   "metadata": {},
   "outputs": [],
   "source": [
    "def f(row):\n",
    "    if row[w] <= 1458: \n",
    "        val = \"1\"\n",
    "    elif row[w] >= 1459 and row[w] <= 1478:\n",
    "        val = \"2L\"\n",
    "    elif row[w] >= 1479 and row[w] <= 1498:\n",
    "        val = \"2H\"\n",
    "    elif row[w] >= 1499 and row[w] <= 1523:\n",
    "        val = '3L'\n",
    "    elif row[w] >= 1524 and row[w] <= 1548:\n",
    "        val = '3H'\n",
    "    else:\n",
    "        val = '4'\n",
    "    return val"
   ]
  },
  {
   "cell_type": "code",
   "execution_count": null,
   "id": "98ca0fd4",
   "metadata": {},
   "outputs": [],
   "source": [
    "if len(fourth) > 0:\n",
    "    fourth[y] = fourth.apply(f, axis=1)\n",
    "else:\n",
    "    pass\n",
    "fourth"
   ]
  },
  {
   "cell_type": "code",
   "execution_count": null,
   "id": "7061cd87",
   "metadata": {},
   "outputs": [],
   "source": [
    "def g(row):\n",
    "    if row[x] <= 1447: \n",
    "        val = \"1\"\n",
    "    elif row[x] >= 1448 and row[x] <= 1467:\n",
    "        val = \"2L\"\n",
    "    elif row[x] >= 1468 and row[x] <= 1487:\n",
    "        val = \"2H\"\n",
    "    elif row[x] >= 1488 and row[x] <= 1510:\n",
    "        val = '3L'\n",
    "    elif row[x] >= 1511 and row[x] <= 1534:\n",
    "        val = '3H'\n",
    "    else:\n",
    "        val = '4'\n",
    "    return val"
   ]
  },
  {
   "cell_type": "code",
   "execution_count": null,
   "id": "92cb9dc6",
   "metadata": {},
   "outputs": [],
   "source": [
    "if len(fourth) > 0:\n",
    "    fourth[z] = fourth.apply(g, axis=1)\n",
    "else:\n",
    "    pass\n",
    "fourth"
   ]
  },
  {
   "cell_type": "code",
   "execution_count": null,
   "id": "39aa2f5b",
   "metadata": {},
   "outputs": [],
   "source": [
    "fifth = elpac_scores[elpac_scores['GradeAssessed'] == 5]\n",
    "fifth"
   ]
  },
  {
   "cell_type": "code",
   "execution_count": null,
   "id": "706f28b2",
   "metadata": {},
   "outputs": [],
   "source": [
    "def f(row):\n",
    "    if row[w] <= 1466: \n",
    "        val = \"1\"\n",
    "    elif row[w] >= 1467 and row[w] <= 1489:\n",
    "        val = \"2L\"\n",
    "    elif row[w] >= 1490 and row[w] <= 1513:\n",
    "        val = \"2H\"\n",
    "    elif row[w] >= 1514 and row[w] <= 1536:\n",
    "        val = '3L'\n",
    "    elif row[w] >= 1537 and row[w] <= 1559:\n",
    "        val = '3H'\n",
    "    else:\n",
    "        val = '4'\n",
    "    return val"
   ]
  },
  {
   "cell_type": "code",
   "execution_count": null,
   "id": "b5ea75e0",
   "metadata": {},
   "outputs": [],
   "source": [
    "if len(fifth) > 0:\n",
    "    fifth[y] = fifth.apply(f, axis=1)\n",
    "else:\n",
    "    pass\n",
    "fifth"
   ]
  },
  {
   "cell_type": "code",
   "execution_count": null,
   "id": "858ce7c3",
   "metadata": {},
   "outputs": [],
   "source": [
    "def g(row):\n",
    "    if row[x] <= 1458: \n",
    "        val = \"1\"\n",
    "    elif row[x] >= 1459 and row[x] <= 1478:\n",
    "        val = \"2L\"\n",
    "    elif row[x] >= 1479 and row[x] <= 1498:\n",
    "        val = \"2H\"\n",
    "    elif row[x] >= 1499 and row[x] <= 1523:\n",
    "        val = '3L'\n",
    "    elif row[x] >= 1524 and row[x] <= 1548:\n",
    "        val = '3H'\n",
    "    else:\n",
    "        val = '4'\n",
    "    return val"
   ]
  },
  {
   "cell_type": "code",
   "execution_count": null,
   "id": "4f01687f",
   "metadata": {},
   "outputs": [],
   "source": [
    "if len(fifth) > 0:\n",
    "    fifth[z] = fifth.apply(g, axis=1)\n",
    "else:\n",
    "    pass\n",
    "fifth"
   ]
  },
  {
   "cell_type": "code",
   "execution_count": null,
   "id": "a498081f",
   "metadata": {},
   "outputs": [],
   "source": [
    "sixth = elpac_scores[elpac_scores['GradeAssessed'] == 6]\n",
    "sixth"
   ]
  },
  {
   "cell_type": "code",
   "execution_count": null,
   "id": "2d2e75ec",
   "metadata": {},
   "outputs": [],
   "source": [
    "def f(row):\n",
    "    if row[w] <= 1474: \n",
    "        val = \"1\"\n",
    "    elif row[w] >= 1475 and row[w] <= 1495:\n",
    "        val = \"2L\"\n",
    "    elif row[w] >= 1496 and row[w] <= 1516:\n",
    "        val = \"2H\"\n",
    "    elif row[w] >= 1517 and row[w] <= 1541:\n",
    "        val = '3L'\n",
    "    elif row[w] >= 1542 and row[w] <= 1566:\n",
    "        val = '3H'\n",
    "    else:\n",
    "        val = '4'\n",
    "    return val"
   ]
  },
  {
   "cell_type": "code",
   "execution_count": null,
   "id": "97e82965",
   "metadata": {},
   "outputs": [],
   "source": [
    "if len(sixth) > 0:\n",
    "    sixth[y] = sixth.apply(f, axis=1)\n",
    "else:\n",
    "    pass\n",
    "sixth"
   ]
  },
  {
   "cell_type": "code",
   "execution_count": null,
   "id": "5ca11b2c",
   "metadata": {},
   "outputs": [],
   "source": [
    "def g(row):\n",
    "    if row[x] <= 1466:\n",
    "        val = \"1\"\n",
    "    elif row[x] >= 1467 and row[x] <= 1489:\n",
    "        val = \"2L\"\n",
    "    elif row[x] >= 1490 and row[x] <= 1513:\n",
    "        val = \"2H\"\n",
    "    elif row[x] >= 1514 and row[x] <= 1536:\n",
    "        val = '3L'\n",
    "    elif row[x] >= 1537 and row[x] <= 1559:\n",
    "        val = '3H'\n",
    "    else:\n",
    "        val = '4'\n",
    "    return val"
   ]
  },
  {
   "cell_type": "code",
   "execution_count": null,
   "id": "2f1d1c6e",
   "metadata": {},
   "outputs": [],
   "source": [
    "if len(sixth) > 0:\n",
    "    sixth[z] = sixth.apply(g, axis=1)\n",
    "else:\n",
    "    pass\n",
    "sixth"
   ]
  },
  {
   "cell_type": "code",
   "execution_count": null,
   "id": "7d8758b3",
   "metadata": {},
   "outputs": [],
   "source": [
    "seventh = elpac_scores[elpac_scores['GradeAssessed'] == 7]\n",
    "seventh"
   ]
  },
  {
   "cell_type": "code",
   "execution_count": null,
   "id": "c3743978",
   "metadata": {},
   "outputs": [],
   "source": [
    "def f(row):\n",
    "    if row[w] <= 1480: \n",
    "        val = \"1\"\n",
    "    elif row[w] >= 1481 and row[w] <= 1503:\n",
    "        val = \"2L\"\n",
    "    elif row[w] >= 1504 and row[w] <= 1526:\n",
    "        val = \"2H\"\n",
    "    elif row[w] >= 1527 and row[w] <= 1550:\n",
    "        val = '3L'\n",
    "    elif row[w] >= 1551 and row[w] <= 1575:\n",
    "        val = '3H'\n",
    "    else:\n",
    "        val = '4'\n",
    "    return val"
   ]
  },
  {
   "cell_type": "code",
   "execution_count": null,
   "id": "f0988e04",
   "metadata": {},
   "outputs": [],
   "source": [
    "if len(seventh) > 0:\n",
    "    seventh[y] = seventh.apply(f, axis=1)\n",
    "else:\n",
    "    pass\n",
    "seventh"
   ]
  },
  {
   "cell_type": "code",
   "execution_count": null,
   "id": "4edc532b",
   "metadata": {},
   "outputs": [],
   "source": [
    "def g(row):\n",
    "    if row[x] <= 1474: \n",
    "        val = \"1\"\n",
    "    elif row[x] >= 1475 and row[x] <= 1495:\n",
    "        val = \"2L\"\n",
    "    elif row[x] >= 1496 and row[x] <= 1516:\n",
    "        val = \"2H\"\n",
    "    elif row[x] >= 1517 and row[x] <= 1541:\n",
    "        val = '3L'\n",
    "    elif row[x] >= 1542 and row[x] <= 1566:\n",
    "        val = '3H'\n",
    "    else:\n",
    "        val = '4'\n",
    "    return val"
   ]
  },
  {
   "cell_type": "code",
   "execution_count": null,
   "id": "ac7dfb77",
   "metadata": {},
   "outputs": [],
   "source": [
    "if len(seventh) > 0:\n",
    "    seventh[z] = seventh.apply(g, axis=1)\n",
    "else:\n",
    "    pass\n",
    "seventh"
   ]
  },
  {
   "cell_type": "code",
   "execution_count": null,
   "id": "e77d364a",
   "metadata": {},
   "outputs": [],
   "source": [
    "eighth = elpac_scores[elpac_scores['GradeAssessed'] == 8]\n",
    "eighth"
   ]
  },
  {
   "cell_type": "code",
   "execution_count": null,
   "id": "72b53bdb",
   "metadata": {},
   "outputs": [],
   "source": [
    "def f(row):\n",
    "    if row[w] <= 1485:\n",
    "        val = \"1\"\n",
    "    elif row[w] >= 1486 and row[w] <= 1509:\n",
    "        val = \"2L\"\n",
    "    elif row[w] >= 1510 and row[w] <= 1533:\n",
    "        val = \"2H\"\n",
    "    elif row[w] >= 1534 and row[w] <= 1561:\n",
    "        val = '3L'\n",
    "    elif row[w] >= 1562 and row[w] <= 1589:\n",
    "        val = '3H'\n",
    "    else:\n",
    "        val = '4'\n",
    "    return val"
   ]
  },
  {
   "cell_type": "code",
   "execution_count": null,
   "id": "c33271b3",
   "metadata": {},
   "outputs": [],
   "source": [
    "if len(eighth) > 0:\n",
    "    eighth[y] = eighth.apply(f, axis=1)\n",
    "else:\n",
    "    pass\n",
    "eighth"
   ]
  },
  {
   "cell_type": "code",
   "execution_count": null,
   "id": "7be5cdea",
   "metadata": {},
   "outputs": [],
   "source": [
    "def g(row):\n",
    "    if row[x] <= 1480:\n",
    "        val = \"1\"\n",
    "    elif row[x] >= 1481 and row[x] <= 1503:\n",
    "        val = \"2L\"\n",
    "    elif row[x] >= 1504 and row[x] <= 1526:\n",
    "        val = \"2H\"\n",
    "    elif row[x] >= 1527 and row[x] <= 1550:\n",
    "        val = '3L'\n",
    "    elif row[x] >= 1551 and row[x] <= 1575:\n",
    "        val = '3H'\n",
    "    else:\n",
    "        val = '4'\n",
    "    return val"
   ]
  },
  {
   "cell_type": "code",
   "execution_count": null,
   "id": "846bc76f",
   "metadata": {},
   "outputs": [],
   "source": [
    "if len(eighth) > 0:\n",
    "    eighth[z] = eighth.apply(g, axis=1)\n",
    "else:\n",
    "    pass\n",
    "eighth"
   ]
  },
  {
   "cell_type": "code",
   "execution_count": null,
   "id": "c92b6005",
   "metadata": {},
   "outputs": [],
   "source": [
    "ninth = elpac_scores[elpac_scores['GradeAssessed'] == 9]\n",
    "ninth"
   ]
  },
  {
   "cell_type": "code",
   "execution_count": null,
   "id": "36b3405e",
   "metadata": {},
   "outputs": [],
   "source": [
    "def f(row):\n",
    "    if row[w] <= 1492:\n",
    "        val = \"1\"\n",
    "    elif row[w] >= 1493 and row[w] <= 1518:\n",
    "        val = \"2L\"\n",
    "    elif row[w] >= 1519 and row[w] <= 1544:\n",
    "        val = \"2H\"\n",
    "    elif row[w] >= 1545 and row[w] <= 1574:\n",
    "        val = '3L'\n",
    "    elif row[w] >= 1575 and row[w] <= 1605:\n",
    "        val = '3H'\n",
    "    else:\n",
    "        val = '4'\n",
    "    return val"
   ]
  },
  {
   "cell_type": "code",
   "execution_count": null,
   "id": "c3da5b2e",
   "metadata": {},
   "outputs": [],
   "source": [
    "if len(ninth) > 0:\n",
    "    ninth[y] = ninth.apply(f, axis=1)\n",
    "else:\n",
    "    pass\n",
    "ninth"
   ]
  },
  {
   "cell_type": "code",
   "execution_count": null,
   "id": "940f0821",
   "metadata": {},
   "outputs": [],
   "source": [
    "def g(row):\n",
    "    if row[x] <= 1485:\n",
    "        val = \"1\"\n",
    "    elif row[x] >= 1486 and row[x] <= 1509:\n",
    "        val = \"2L\"\n",
    "    elif row[x] >= 1510 and row[x] <= 1533:\n",
    "        val = \"2H\"\n",
    "    elif row[x] >= 1534 and row[x] <= 1561:\n",
    "        val = '3L'\n",
    "    elif row[x] >= 1562 and row[x] <= 1589:\n",
    "        val = '3H'\n",
    "    else:\n",
    "        val = '4'\n",
    "    return val"
   ]
  },
  {
   "cell_type": "code",
   "execution_count": null,
   "id": "c4d43140",
   "metadata": {},
   "outputs": [],
   "source": [
    "if len(ninth) > 0:\n",
    "    ninth[z] = ninth.apply(g, axis=1)\n",
    "else:\n",
    "    pass\n",
    "ninth"
   ]
  },
  {
   "cell_type": "code",
   "execution_count": null,
   "id": "11ee6791",
   "metadata": {},
   "outputs": [],
   "source": [
    "tenth = elpac_scores[elpac_scores['GradeAssessed'] == 10]\n",
    "tenth"
   ]
  },
  {
   "cell_type": "code",
   "execution_count": null,
   "id": "31a0a5ae",
   "metadata": {},
   "outputs": [],
   "source": [
    "def f(row):\n",
    "    if row[w] <= 1492:\n",
    "        val = \"1\"\n",
    "    elif row[w] >= 1493 and row[w] <= 1518:\n",
    "        val = \"2L\"\n",
    "    elif row[w] >= 1519 and row[w] <= 1544:\n",
    "        val = \"2H\"\n",
    "    elif row[w] >= 1545 and row[w] <= 1574:\n",
    "        val = '3L'\n",
    "    elif row[w] >= 1575 and row[w] <= 1605:\n",
    "        val = '3H'\n",
    "    else:\n",
    "        val = '4'\n",
    "    return val"
   ]
  },
  {
   "cell_type": "code",
   "execution_count": null,
   "id": "ca0836ec",
   "metadata": {},
   "outputs": [],
   "source": [
    "if len(tenth) > 0:\n",
    "    tenth[y] = tenth.apply(f, axis=1)\n",
    "else:\n",
    "    pass\n",
    "tenth"
   ]
  },
  {
   "cell_type": "code",
   "execution_count": null,
   "id": "ed845f7d",
   "metadata": {},
   "outputs": [],
   "source": [
    "def g(row):\n",
    "    if row[x] <= 1492:\n",
    "        val = \"1\"\n",
    "    elif row[x] >= 1493 and row[x] <= 1518:\n",
    "        val = \"2L\"\n",
    "    elif row[x] >= 1519 and row[x] <= 1544:\n",
    "        val = \"2H\"\n",
    "    elif row[x] >= 1545 and row[x] <= 1574:\n",
    "        val = '3L'\n",
    "    elif row[x] >= 1575 and row[x] <= 1605:\n",
    "        val = '3H'\n",
    "    else:\n",
    "        val = '4'\n",
    "    return val"
   ]
  },
  {
   "cell_type": "code",
   "execution_count": null,
   "id": "c8703fbd",
   "metadata": {},
   "outputs": [],
   "source": [
    "if len(tenth) > 0:\n",
    "    tenth[z] = tenth.apply(g, axis=1)\n",
    "else:\n",
    "    pass\n",
    "tenth"
   ]
  },
  {
   "cell_type": "code",
   "execution_count": null,
   "id": "905edffd",
   "metadata": {},
   "outputs": [],
   "source": [
    "eleventh = elpac_scores[elpac_scores['GradeAssessed'] == 11]\n",
    "eleventh"
   ]
  },
  {
   "cell_type": "code",
   "execution_count": null,
   "id": "125ad255",
   "metadata": {},
   "outputs": [],
   "source": [
    "def f(row):\n",
    "    if row[w] <= 1499:\n",
    "        val = \"1\"\n",
    "    elif row[w] >= 1500 and row[w] <= 1526:\n",
    "        val = \"2L\"\n",
    "    elif row[w] >= 1527 and row[w] <= 1554:\n",
    "        val = \"2H\"\n",
    "    elif row[w] >= 1555 and row[w] <= 1584:\n",
    "        val = '3L'\n",
    "    elif row[w] >= 1585 and row[w] <= 1614:\n",
    "        val = '3H'\n",
    "    else:\n",
    "        val = '4'\n",
    "    return val"
   ]
  },
  {
   "cell_type": "code",
   "execution_count": null,
   "id": "b30a4608",
   "metadata": {},
   "outputs": [],
   "source": [
    "if len(eleventh) > 0:\n",
    "    eleventh[y] = eleventh.apply(f, axis=1)\n",
    "else:\n",
    "    pass\n",
    "eleventh"
   ]
  },
  {
   "cell_type": "code",
   "execution_count": null,
   "id": "c0bdeb8b",
   "metadata": {},
   "outputs": [],
   "source": [
    "def g(row):\n",
    "    if row[x] <= 1492:\n",
    "        val = \"1\"\n",
    "    elif row[x] >= 1493 and row[x] <= 1518:\n",
    "        val = \"2L\"\n",
    "    elif row[x] >= 1519 and row[x] <= 1544:\n",
    "        val = \"2H\"\n",
    "    elif row[x] >= 1545 and row[x] <= 1574:\n",
    "        val = '3L'\n",
    "    elif row[x] >= 1575 and row[x] <= 1605:\n",
    "        val = '3H'\n",
    "    else:\n",
    "        val = '4'\n",
    "    return val"
   ]
  },
  {
   "cell_type": "code",
   "execution_count": null,
   "id": "3807e5e5",
   "metadata": {},
   "outputs": [],
   "source": [
    "if len(eleventh) > 0:\n",
    "    eleventh[z] = eleventh.apply(g, axis=1)\n",
    "else:\n",
    "    pass\n",
    "eleventh"
   ]
  },
  {
   "cell_type": "code",
   "execution_count": null,
   "id": "2280be27",
   "metadata": {},
   "outputs": [],
   "source": [
    "twelfth = elpac_scores[elpac_scores['GradeAssessed'] == 12]\n",
    "twelfth"
   ]
  },
  {
   "cell_type": "code",
   "execution_count": null,
   "id": "42de01aa",
   "metadata": {},
   "outputs": [],
   "source": [
    "def f(row):\n",
    "    if row[w] <= 1499:\n",
    "        val = \"1\"\n",
    "    elif row[w] >= 1500 and row[w] <= 1526:\n",
    "        val = \"2L\"\n",
    "    elif row[w] >= 1527 and row[w] <= 1554:\n",
    "        val = \"2H\"\n",
    "    elif row[w] >= 1555 and row[w] <= 1584:\n",
    "        val = '3L'\n",
    "    elif row[w] >= 1585 and row[w] <= 1614:\n",
    "        val = '3H'\n",
    "    else:\n",
    "        val = '4'\n",
    "    return val"
   ]
  },
  {
   "cell_type": "code",
   "execution_count": null,
   "id": "64cf09a8",
   "metadata": {},
   "outputs": [],
   "source": [
    "if len(twelfth) > 0:\n",
    "    twelfth[y] = twelfth.apply(f, axis=1)\n",
    "else:\n",
    "    pass\n",
    "twelfth"
   ]
  },
  {
   "cell_type": "code",
   "execution_count": null,
   "id": "eff8c0d1",
   "metadata": {},
   "outputs": [],
   "source": [
    "def g(row):\n",
    "    if row[x] <= 1499:\n",
    "        val = \"1\"\n",
    "    elif row[x] >= 1500 and row[x] <= 1526:\n",
    "        val = \"2L\"\n",
    "    elif row[x] >= 1527 and row[x] <= 1554:\n",
    "        val = \"2H\"\n",
    "    elif row[x] >= 1555 and row[x] <= 1584:\n",
    "        val = '3L'\n",
    "    elif row[x] >= 1585 and row[x] <= 1614:\n",
    "        val = '3H'\n",
    "    else:\n",
    "        val = '4'\n",
    "    return val"
   ]
  },
  {
   "cell_type": "code",
   "execution_count": null,
   "id": "99227104",
   "metadata": {},
   "outputs": [],
   "source": [
    "if len(twelfth) > 0:\n",
    "    twelfth[z] = twelfth.apply(g, axis=1)\n",
    "else:\n",
    "    pass\n",
    "twelfth"
   ]
  },
  {
   "cell_type": "code",
   "execution_count": null,
   "id": "c1025ad4",
   "metadata": {},
   "outputs": [],
   "source": [
    "second = elpac_scores[elpac_scores['GradeAssessed'] == 2]\n",
    "second"
   ]
  },
  {
   "cell_type": "code",
   "execution_count": null,
   "id": "d01378cf",
   "metadata": {},
   "outputs": [],
   "source": [
    "def f(row):\n",
    "    if row[w] <= 1423:\n",
    "        val = \"1\"\n",
    "    elif row[w] >= 1424 and row[w] <= 1446:\n",
    "        val = \"2L\"\n",
    "    elif row[w] >= 1447 and row[w] <= 1470:\n",
    "        val = \"2H\"\n",
    "    elif row[w] >= 1471 and row[w] <= 1500:\n",
    "        val = '3L'\n",
    "    elif row[w] >= 1501 and row[w] <= 1531:\n",
    "        val = '3H'\n",
    "    else:\n",
    "        val = '4'\n",
    "    return val"
   ]
  },
  {
   "cell_type": "code",
   "execution_count": null,
   "id": "f40c4530",
   "metadata": {},
   "outputs": [],
   "source": [
    "if len(second) > 0:\n",
    "    second[y] = second.apply(f, axis=1)\n",
    "else:\n",
    "    pass\n",
    "second"
   ]
  },
  {
   "cell_type": "code",
   "execution_count": null,
   "id": "5ae97d74",
   "metadata": {},
   "outputs": [],
   "source": [
    "def g(row):\n",
    "    if row[x] <= 1410:\n",
    "        val = \"1\"\n",
    "    elif row[x] >= 1411 and row[x] <= 1432:\n",
    "        val = \"2L\"\n",
    "    elif row[x] >= 1433 and row[x] <= 1454:\n",
    "        val = \"2H\"\n",
    "    elif row[x] >= 1455 and row[x] <= 1480:\n",
    "        val = '3L'\n",
    "    elif row[x] >= 1481 and row[x] <= 1506:\n",
    "        val = '3H'\n",
    "    else:\n",
    "        val = '4'\n",
    "    return val"
   ]
  },
  {
   "cell_type": "code",
   "execution_count": null,
   "id": "0d30e703",
   "metadata": {},
   "outputs": [],
   "source": [
    "if len(second) > 0:\n",
    "    second[z] = second.apply(g, axis=1)\n",
    "else:\n",
    "    pass\n",
    "second"
   ]
  },
  {
   "cell_type": "code",
   "execution_count": null,
   "id": "8084b07f",
   "metadata": {},
   "outputs": [],
   "source": [
    "first = elpac_scores[elpac_scores['GradeAssessed'] == 1]\n",
    "first"
   ]
  },
  {
   "cell_type": "code",
   "execution_count": null,
   "id": "9b3fa4d5",
   "metadata": {},
   "outputs": [],
   "source": [
    "def f(row):\n",
    "    if row[w] <= 1410:\n",
    "        val = \"1\"\n",
    "    elif row[w] >= 1411 and row[w] <= 1432:\n",
    "        val = \"2L\"\n",
    "    elif row[w] >= 1433 and row[w] <= 1454:\n",
    "        val = \"2H\"\n",
    "    elif row[w] >= 1455 and row[w] <= 1480:\n",
    "        val = '3L'\n",
    "    elif row[w] >= 1481 and row[w] <= 1506:\n",
    "        val = '3H'\n",
    "    else:\n",
    "        val = '4'\n",
    "    return val"
   ]
  },
  {
   "cell_type": "code",
   "execution_count": null,
   "id": "61b8c63a",
   "metadata": {},
   "outputs": [],
   "source": [
    "if len(first) > 0:\n",
    "    first[y] = first.apply(f, axis=1)\n",
    "else:\n",
    "    pass\n",
    "first"
   ]
  },
  {
   "cell_type": "code",
   "execution_count": null,
   "id": "1673e223",
   "metadata": {},
   "outputs": [],
   "source": [
    "def g(row):\n",
    "    if row[x] <= 1373:\n",
    "        val = \"1\"\n",
    "    elif row[x] >= 1374 and row[x] <= 1397:\n",
    "        val = \"2L\"\n",
    "    elif row[x] >= 1398 and row[x] <= 1421:\n",
    "        val = \"2H\"\n",
    "    elif row[x] >= 1422 and row[x] <= 1447:\n",
    "        val = '3L'\n",
    "    elif row[x] >= 1448 and row[x] <= 1473:\n",
    "        val = '3H'\n",
    "    else:\n",
    "        val = '4'\n",
    "    return val"
   ]
  },
  {
   "cell_type": "code",
   "execution_count": null,
   "id": "a897daae",
   "metadata": {},
   "outputs": [],
   "source": [
    "if len(first) > 0:\n",
    "    first[z] = first.apply(g, axis=1)\n",
    "else:\n",
    "    pass\n",
    "first"
   ]
  },
  {
   "cell_type": "code",
   "execution_count": null,
   "id": "24983f46",
   "metadata": {},
   "outputs": [],
   "source": [
    "# Concats all the grades into one dataframe\n",
    "all_grades = pd.concat([first, second, third, fourth, fifth, sixth, seventh, eighth, ninth, tenth, eleventh, twelfth])\n",
    "all_grades"
   ]
  },
  {
   "cell_type": "code",
   "execution_count": null,
   "id": "37770f2c",
   "metadata": {},
   "outputs": [],
   "source": [
    "all_grades"
   ]
  },
  {
   "cell_type": "code",
   "execution_count": null,
   "id": "abed454a",
   "metadata": {},
   "outputs": [],
   "source": [
    "# Creates a download file in case you want to check the results\n",
    "import base64\n",
    "from IPython.display import HTML\n",
    "\n",
    "def create_download_link( df, title = 'ELPAC Scores', filename = 'ELPAC Scores'):\n",
    "    csv = df.to_csv()\n",
    "    b64 = base64.b64encode(csv.encode())\n",
    "    payload = b64.decode()\n",
    "    html = '<a download=\"{filename}\" href=\"data:text/csv;base64,{payload}\" target=\"_blank\">{title}</a>'\n",
    "    html = html.format(payload=payload,title=title,filename=filename)\n",
    "    return HTML(html)\n",
    "\n",
    "create_download_link(all_grades)"
   ]
  },
  {
   "cell_type": "markdown",
   "id": "cb49b134",
   "metadata": {},
   "source": [
    "## Generating ELPI Table\n",
    "\n",
    "In this section each level will be singled out for the current year then grouped by each previous year level and counted with a pivot turning each level of the previous year into their own column.\n",
    "\n",
    "After all the levels are completed for the current year, they will then be concatenated so that the final ELPI table is generated."
   ]
  },
  {
   "cell_type": "code",
   "execution_count": null,
   "id": "54d79674",
   "metadata": {},
   "outputs": [],
   "source": [
    "# Selects level one for current year\n",
    "one = all_grades[all_grades[y] == '1']\n",
    "one"
   ]
  },
  {
   "cell_type": "code",
   "execution_count": null,
   "id": "84977ed2",
   "metadata": {},
   "outputs": [],
   "source": [
    "if len(one) >= 0 :\n",
    "    level_one = one.groupby(by=[z])['SSID'].count().reset_index() # Groups by previous year levels and counts students\n",
    "    level_one[y] = '1' # Adds a Label of 1 for Level 1\n",
    "    level_one = level_one.pivot(index=[y], columns=z,values='SSID').reset_index() #Pivots to create columns for each level\n",
    "else:\n",
    "    pass\n",
    "level_one"
   ]
  },
  {
   "cell_type": "code",
   "execution_count": null,
   "id": "b0db5b02",
   "metadata": {},
   "outputs": [],
   "source": [
    "# Repeats for level 2L\n",
    "two_l = all_grades[all_grades[y] == '2L']\n",
    "two_l"
   ]
  },
  {
   "cell_type": "code",
   "execution_count": null,
   "id": "ea853b31",
   "metadata": {},
   "outputs": [],
   "source": [
    "# Repeats what was done for Level 2 for Level 1\n",
    "if len(two_l) >= 0:\n",
    "    level_twol = two_l.groupby(by=[z])['SSID'].count().reset_index()\n",
    "    level_twol[y] = '2L'\n",
    "    level_twol = level_twol.pivot(index=[y], columns=z,values='SSID').reset_index()\n",
    "else:\n",
    "    pass\n",
    "level_twol"
   ]
  },
  {
   "cell_type": "code",
   "execution_count": null,
   "id": "7f648bd9",
   "metadata": {},
   "outputs": [],
   "source": [
    "two_h = all_grades[all_grades[y] == '2H']\n",
    "two_h"
   ]
  },
  {
   "cell_type": "code",
   "execution_count": null,
   "id": "5bdae17b",
   "metadata": {},
   "outputs": [],
   "source": [
    "if len(two_h) >= 0:\n",
    "    level_twoh = two_h.groupby(by=[z])['SSID'].count().reset_index()\n",
    "    level_twoh[y] = '2H'\n",
    "    level_twoh = level_twoh.pivot(index=[y], columns=z,values='SSID').reset_index()\n",
    "else:\n",
    "    pass\n",
    "level_twoh"
   ]
  },
  {
   "cell_type": "code",
   "execution_count": null,
   "id": "88509301",
   "metadata": {},
   "outputs": [],
   "source": [
    "three_l = all_grades[all_grades[y] == '3L']\n",
    "three_l"
   ]
  },
  {
   "cell_type": "code",
   "execution_count": null,
   "id": "50d0d666",
   "metadata": {},
   "outputs": [],
   "source": [
    "if len(three_l) >= 0:\n",
    "    level_threel = three_l.groupby(by=[z])['SSID'].count().reset_index()\n",
    "    level_threel[y] = '3L'\n",
    "    level_threel = level_threel.pivot(index=[y], columns=z,values='SSID').reset_index()\n",
    "else:\n",
    "    pass\n",
    "level_threel"
   ]
  },
  {
   "cell_type": "code",
   "execution_count": null,
   "id": "2fb8c706",
   "metadata": {},
   "outputs": [],
   "source": [
    "three_h = all_grades[all_grades[y] == '3H']\n",
    "three_h"
   ]
  },
  {
   "cell_type": "code",
   "execution_count": null,
   "id": "b659c644",
   "metadata": {},
   "outputs": [],
   "source": [
    "if len(three_h) >= 0:\n",
    "    level_threeh = three_h.groupby(by=[z])['SSID'].count().reset_index()\n",
    "    level_threeh[y] = '3H'\n",
    "    level_threeh = level_threeh.pivot(index=[y], columns=z,values='SSID').reset_index()\n",
    "else:\n",
    "    pass\n",
    "level_threeh"
   ]
  },
  {
   "cell_type": "code",
   "execution_count": null,
   "id": "90ae469e",
   "metadata": {},
   "outputs": [],
   "source": [
    "four = all_grades[all_grades[y] == '4']\n",
    "four"
   ]
  },
  {
   "cell_type": "code",
   "execution_count": null,
   "id": "683d9ac3",
   "metadata": {},
   "outputs": [],
   "source": [
    "level_four = four.groupby(by=[z])['SSID'].count().reset_index()\n",
    "level_four"
   ]
  },
  {
   "cell_type": "code",
   "execution_count": null,
   "id": "e72c3eec",
   "metadata": {},
   "outputs": [],
   "source": [
    "level_four = four.groupby(by=[z])['SSID'].count().reset_index()\n",
    "level_four[y] = '4'\n",
    "level_four = level_four.pivot(index=[y], columns=z,values='SSID').reset_index()\n",
    "level_four"
   ]
  },
  {
   "cell_type": "code",
   "execution_count": null,
   "id": "66f1018b",
   "metadata": {},
   "outputs": [],
   "source": [
    "# Concats all of the tables together to create the ELPI table\n",
    "table = pd.concat([level_one, level_twol, level_twoh, level_threel, level_threeh, level_four])\n",
    "table"
   ]
  },
  {
   "cell_type": "code",
   "execution_count": null,
   "id": "b26cc89b",
   "metadata": {},
   "outputs": [],
   "source": [
    "# Fills in any missing data with zeros\n",
    "#table_final = table[[y, '1', '2L', '2H','3L', '3H']]\n",
    "table_final = table.fillna(0)\n",
    "table_final"
   ]
  },
  {
   "cell_type": "code",
   "execution_count": null,
   "id": "3e71e150",
   "metadata": {},
   "outputs": [],
   "source": [
    "import base64\n",
    "from IPython.display import HTML\n",
    "\n",
    "def create_download_link( df, title = 'ELPI Table', filename = 'ELPI Table'):\n",
    "    csv = df.to_csv()\n",
    "    b64 = base64.b64encode(csv.encode())\n",
    "    payload = b64.decode()\n",
    "    html = '<a download=\"{filename}\" href=\"data:text/csv;base64,{payload}\" target=\"_blank\">{title}</a>'\n",
    "    html = html.format(payload=payload,title=title,filename=filename)\n",
    "    return HTML(html)\n",
    "\n",
    "create_download_link(table_final)"
   ]
  },
  {
   "cell_type": "markdown",
   "id": "afd181a5",
   "metadata": {},
   "source": [
    "## ELPI Calculator\n",
    "\n",
    "In this section the ELPI is calculated by first calculating the total number of students and then filtering down to the students who showed improvement at each level from the previous year. The different levels will be concatenated and then the number of students who showed improvement can be calculated which will then allow the calculation of the ELPI."
   ]
  },
  {
   "cell_type": "code",
   "execution_count": null,
   "id": "6513dcb4",
   "metadata": {},
   "outputs": [],
   "source": [
    "all_grades"
   ]
  },
  {
   "cell_type": "code",
   "execution_count": null,
   "id": "c9975adc",
   "metadata": {},
   "outputs": [],
   "source": [
    "total = len(all_grades) # Calculates the total number of students\n",
    "total"
   ]
  },
  {
   "cell_type": "code",
   "execution_count": null,
   "id": "9b8ce8c2",
   "metadata": {},
   "outputs": [],
   "source": [
    "ones = all_grades[all_grades['2024 Level'] == '1'] # Selects level one in previous year\n",
    "ones"
   ]
  },
  {
   "cell_type": "code",
   "execution_count": null,
   "id": "bb46c7f7",
   "metadata": {},
   "outputs": [],
   "source": [
    "ones = ones[(ones['2025 Level'] == '2L') | (ones['2025 Level'] == '2H') | (ones['2025 Level'] == '3L') | \n",
    "           (ones['2025 Level'] == '3H') | (ones['2025 Level'] == '4')] # Gets students who improved\n",
    "ones"
   ]
  },
  {
   "cell_type": "code",
   "execution_count": null,
   "id": "cb62156d",
   "metadata": {},
   "outputs": [],
   "source": [
    "lower_two = all_grades[all_grades['2024 Level'] == '2L']\n",
    "lower_two"
   ]
  },
  {
   "cell_type": "code",
   "execution_count": null,
   "id": "470a5e36",
   "metadata": {},
   "outputs": [],
   "source": [
    "lower_two = lower_two[(lower_two['2025 Level'] == '2H') | (lower_two['2025 Level'] == '3L') | \n",
    "           (lower_two['2025 Level'] == '3H') | (lower_two['2025 Level'] == '4')]\n",
    "lower_two "
   ]
  },
  {
   "cell_type": "code",
   "execution_count": null,
   "id": "ee154eb9",
   "metadata": {},
   "outputs": [],
   "source": [
    "upper_two = all_grades[all_grades['2024 Level'] == '2H']\n",
    "upper_two"
   ]
  },
  {
   "cell_type": "code",
   "execution_count": null,
   "id": "cde7b0da",
   "metadata": {},
   "outputs": [],
   "source": [
    "upper_two = upper_two[(upper_two['2025 Level'] == '3L') | (upper_two['2025 Level'] == '3H') | \n",
    "                      (upper_two['2025 Level'] == '4')]\n",
    "upper_two "
   ]
  },
  {
   "cell_type": "code",
   "execution_count": null,
   "id": "c09b7d1d",
   "metadata": {},
   "outputs": [],
   "source": [
    "lower_three = all_grades[all_grades['2024 Level'] == '3L']\n",
    "lower_three"
   ]
  },
  {
   "cell_type": "code",
   "execution_count": null,
   "id": "ce6de639",
   "metadata": {},
   "outputs": [],
   "source": [
    "lower_three = lower_three[(lower_three['2025 Level'] == '3H') | (lower_three['2025 Level'] == '4')]\n",
    "lower_three "
   ]
  },
  {
   "cell_type": "code",
   "execution_count": null,
   "id": "06399db6",
   "metadata": {},
   "outputs": [],
   "source": [
    "upper_three = all_grades[all_grades['2024 Level'] == '3H']\n",
    "upper_three"
   ]
  },
  {
   "cell_type": "code",
   "execution_count": null,
   "id": "ebb16608",
   "metadata": {},
   "outputs": [],
   "source": [
    "upper_three = upper_three[upper_three['2025 Level'] == '4']\n",
    "upper_three "
   ]
  },
  {
   "cell_type": "code",
   "execution_count": null,
   "id": "da34342a",
   "metadata": {},
   "outputs": [],
   "source": [
    "four = all_grades[all_grades['2024 Level'] == '4']\n",
    "four"
   ]
  },
  {
   "cell_type": "code",
   "execution_count": null,
   "id": "e3201552",
   "metadata": {},
   "outputs": [],
   "source": [
    "four = four[four['2025 Level'] == '4']\n",
    "four "
   ]
  },
  {
   "cell_type": "code",
   "execution_count": null,
   "id": "7a5759b8",
   "metadata": {},
   "outputs": [],
   "source": [
    "improved = pd.concat([ones, lower_two, upper_two, lower_three, upper_three, four]) # Concatenates all levels together\n",
    "improved"
   ]
  },
  {
   "cell_type": "code",
   "execution_count": null,
   "id": "5849046c",
   "metadata": {},
   "outputs": [],
   "source": [
    "import base64\n",
    "from IPython.display import HTML\n",
    "\n",
    "def create_download_link( df, title = 'ELPI Table', filename = 'ELPI Table'):\n",
    "    csv = df.to_csv()\n",
    "    b64 = base64.b64encode(csv.encode())\n",
    "    payload = b64.decode()\n",
    "    html = '<a download=\"{filename}\" href=\"data:text/csv;base64,{payload}\" target=\"_blank\">{title}</a>'\n",
    "    html = html.format(payload=payload,title=title,filename=filename)\n",
    "    return HTML(html)\n",
    "\n",
    "create_download_link(table_final)"
   ]
  },
  {
   "cell_type": "code",
   "execution_count": null,
   "id": "74fa1daa",
   "metadata": {},
   "outputs": [],
   "source": [
    "# Creates a download file in case you want to check the results\n",
    "import base64\n",
    "from IPython.display import HTML\n",
    "\n",
    "def create_download_link( df, title = 'ELPAC Scores', filename = 'ELPAC Scores'):\n",
    "    csv = df.to_csv()\n",
    "    b64 = base64.b64encode(csv.encode())\n",
    "    payload = b64.decode()\n",
    "    html = '<a download=\"{filename}\" href=\"data:text/csv;base64,{payload}\" target=\"_blank\">{title}</a>'\n",
    "    html = html.format(payload=payload,title=title,filename=filename)\n",
    "    return HTML(html)\n",
    "\n",
    "create_download_link(all_grades)"
   ]
  },
  {
   "cell_type": "code",
   "execution_count": null,
   "id": "73cd557c",
   "metadata": {},
   "outputs": [],
   "source": [
    "improved = len(improved) #Number of students who improved at calculated\n",
    "improved"
   ]
  },
  {
   "cell_type": "code",
   "execution_count": null,
   "id": "a35df545",
   "metadata": {},
   "outputs": [],
   "source": [
    "total"
   ]
  },
  {
   "cell_type": "code",
   "execution_count": null,
   "id": "4a153318",
   "metadata": {},
   "outputs": [],
   "source": [
    "elpi = improved/total #The ELPI is calculated"
   ]
  },
  {
   "cell_type": "code",
   "execution_count": null,
   "id": "f86e5af5",
   "metadata": {},
   "outputs": [],
   "source": [
    "elpi"
   ]
  },
  {
   "cell_type": "code",
   "execution_count": null,
   "id": "bb5f8112",
   "metadata": {},
   "outputs": [],
   "source": [
    "table_final"
   ]
  },
  {
   "cell_type": "code",
   "execution_count": null,
   "id": "a9f11862",
   "metadata": {},
   "outputs": [],
   "source": []
  }
 ],
 "metadata": {
  "kernelspec": {
   "display_name": "Python 3 (ipykernel)",
   "language": "python",
   "name": "python3"
  },
  "language_info": {
   "codemirror_mode": {
    "name": "ipython",
    "version": 3
   },
   "file_extension": ".py",
   "mimetype": "text/x-python",
   "name": "python",
   "nbconvert_exporter": "python",
   "pygments_lexer": "ipython3",
   "version": "3.9.7"
  }
 },
 "nbformat": 4,
 "nbformat_minor": 5
}
