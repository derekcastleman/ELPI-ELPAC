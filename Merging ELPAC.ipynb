{
 "cells": [
  {
   "cell_type": "markdown",
   "id": "518dbc5a",
   "metadata": {},
   "source": [
    "# Merging ELPAC\n",
    "\n",
    "In this Python Code, current ELPAC scores will be merged with those from the previous year for use in the Fixing ELPAC for EPLI code and calculations that need to be made at the end of the year.\n",
    "\n",
    "When the file is generated at the end, students who are missing past year data are new to the school this year and have to have their Scale Scores looked up before use in the other Python Program.\n",
    "\n",
    "\n",
    "Query for Past: __LIST STU SC CID TST TST.ID TST.PT TST.SS TST.TD__ "
   ]
  },
  {
   "cell_type": "code",
   "execution_count": null,
   "id": "95cf29dd",
   "metadata": {},
   "outputs": [],
   "source": [
    "import numpy as np\n",
    "import pandas as pd"
   ]
  },
  {
   "cell_type": "code",
   "execution_count": null,
   "id": "7b936ec9",
   "metadata": {},
   "outputs": [],
   "source": [
    "# Loading in current testing data and past\n",
    "current = pd.read_excel(r\"C:\\Users\\derek.castleman\\Desktop\\Lost Hills ELPAC.xlsx\")\n",
    "past = pd.read_excel(r\"C:\\Users\\derek.castleman\\Desktop\\ELPAC OLD.xlsx\")\n",
    "current"
   ]
  },
  {
   "cell_type": "code",
   "execution_count": null,
   "id": "ed431dbf",
   "metadata": {},
   "outputs": [],
   "source": [
    "# Eliminating kindergarten from current since they are not considered\n",
    "current = current[current.GradeAssessed != 'KN']\n",
    "current"
   ]
  },
  {
   "cell_type": "code",
   "execution_count": null,
   "id": "446d7e78",
   "metadata": {},
   "outputs": [],
   "source": [
    "# Selecting the columns of interest\n",
    "current = current[['SSID', 'LocalStudentID', 'GradeAssessed', 'OverallScaleScore']]\n",
    "current"
   ]
  },
  {
   "cell_type": "code",
   "execution_count": null,
   "id": "14a5601a",
   "metadata": {},
   "outputs": [],
   "source": [
    "past"
   ]
  },
  {
   "cell_type": "code",
   "execution_count": null,
   "id": "e67bcbc1",
   "metadata": {},
   "outputs": [],
   "source": [
    "# Selecting ELPAC from past tests\n",
    "past_elpac = past[past['TESTID'] == 'ELPAC']\n",
    "past_elpac"
   ]
  },
  {
   "cell_type": "code",
   "execution_count": null,
   "id": "253e73f2",
   "metadata": {},
   "outputs": [],
   "source": [
    "# Selecting the overall part\n",
    "past_elpac = past_elpac[past_elpac['Part'] == 0]\n",
    "past_elpac"
   ]
  },
  {
   "cell_type": "code",
   "execution_count": null,
   "id": "9923aca6",
   "metadata": {},
   "outputs": [],
   "source": [
    "# Changing the date to the proper format\n",
    "past_elpac['Date Taken']= pd.to_datetime(past_elpac['Date Taken']) # Changes absent date to datetime\n",
    "past_elpac"
   ]
  },
  {
   "cell_type": "code",
   "execution_count": null,
   "id": "117a3abd",
   "metadata": {},
   "outputs": [],
   "source": [
    "# Extracting year from the date\n",
    "past_elpac['Year'] = past_elpac['Date Taken'].dt.strftime('%Y')\n",
    "past_elpac"
   ]
  },
  {
   "cell_type": "code",
   "execution_count": null,
   "id": "2fd293a5",
   "metadata": {},
   "outputs": [],
   "source": [
    "# Selecting the past year of interest\n",
    "a = input('What year are you interested in the past(2022, 2023, 2024, etc.):          ')"
   ]
  },
  {
   "cell_type": "code",
   "execution_count": null,
   "id": "752ece1c",
   "metadata": {},
   "outputs": [],
   "source": [
    "# Filtering out the year of interest data\n",
    "past_elpac = past_elpac[past_elpac['Year'] == a]\n",
    "past_elpac"
   ]
  },
  {
   "cell_type": "code",
   "execution_count": null,
   "id": "45dc95f8",
   "metadata": {},
   "outputs": [],
   "source": [
    "# Selecting which site is being looked at\n",
    "b = input('Delano or Lost Hills:          ')"
   ]
  },
  {
   "cell_type": "code",
   "execution_count": null,
   "id": "15716c58",
   "metadata": {},
   "outputs": [],
   "source": [
    "# Filtering out the site that is selected\n",
    "if b == 'Delano':\n",
    "    past = past_elpac[(past_elpac['School'] == 1) | (past_elpac['School'] == 2) | (past_elpac['School'] == 4) ]\n",
    "elif b == 'Lost Hills':\n",
    "    past = past_elpac[(past_elpac['School'] == 6) | (past_elpac['School'] == 7) | (past_elpac['School'] == 8) ]"
   ]
  },
  {
   "cell_type": "code",
   "execution_count": null,
   "id": "ab4d37bd",
   "metadata": {},
   "outputs": [],
   "source": [
    "past"
   ]
  },
  {
   "cell_type": "code",
   "execution_count": null,
   "id": "695c984b",
   "metadata": {},
   "outputs": [],
   "source": [
    "# Selecting the data that is needed\n",
    "past = past[['School', 'State Student ID', 'S/S']]\n",
    "past"
   ]
  },
  {
   "cell_type": "code",
   "execution_count": null,
   "id": "782bd48a",
   "metadata": {},
   "outputs": [],
   "source": [
    "# Merging the current and the past tests\n",
    "merge = pd.merge(current, past, how='left', left_on='SSID', right_on='State Student ID')\n",
    "merge"
   ]
  },
  {
   "cell_type": "code",
   "execution_count": null,
   "id": "58745c74",
   "metadata": {},
   "outputs": [],
   "source": [
    "# Turning grade from string to an integer\n",
    "merge['GradeAssessed'] = merge['GradeAssessed'].astype('int')"
   ]
  },
  {
   "cell_type": "code",
   "execution_count": null,
   "id": "b3a8dbe7",
   "metadata": {},
   "outputs": [],
   "source": [
    "# Creating a column for the past grade by subtracting 1 from the current one\n",
    "merge['GradePast'] = merge['GradeAssessed'] - 1\n",
    "merge"
   ]
  },
  {
   "cell_type": "code",
   "execution_count": null,
   "id": "474ee19d",
   "metadata": {},
   "outputs": [],
   "source": [
    "# Putting the final columns in the order that is needed\n",
    "merge = merge[['School', 'SSID', 'LocalStudentID', 'GradeAssessed', 'GradePast','OverallScaleScore','S/S']]\n",
    "merge"
   ]
  },
  {
   "cell_type": "code",
   "execution_count": null,
   "id": "9beb0810",
   "metadata": {},
   "outputs": [],
   "source": [
    "# Selecting the current year of interest\n",
    "c = input('What is the current year (2024, 2025, 2026, etc.):          ')\n",
    "c"
   ]
  },
  {
   "cell_type": "code",
   "execution_count": null,
   "id": "2ba9e64f",
   "metadata": {},
   "outputs": [],
   "source": [
    "# Changing column names\n",
    "merge = merge.rename(columns={'OverallScaleScore': c + ' Score', 'S/S': a + ' Score'})\n",
    "merge"
   ]
  },
  {
   "cell_type": "code",
   "execution_count": null,
   "id": "17a973f5",
   "metadata": {},
   "outputs": [],
   "source": [
    "import base64\n",
    "from IPython.display import HTML\n",
    "\n",
    "def create_download_link( df, title = b + ' Elpac Combined', filename = b + ' Elpac Combined'):\n",
    "    csv = df.to_csv()\n",
    "    b64 = base64.b64encode(csv.encode())\n",
    "    payload = b64.decode()\n",
    "    html = '<a download=\"{filename}\" href=\"data:text/csv;base64,{payload}\" target=\"_blank\">{title}</a>'\n",
    "    html = html.format(payload=payload,title=title,filename=filename)\n",
    "    return HTML(html)\n",
    "\n",
    "create_download_link(merge)"
   ]
  },
  {
   "cell_type": "code",
   "execution_count": null,
   "id": "53f09f22",
   "metadata": {},
   "outputs": [],
   "source": []
  }
 ],
 "metadata": {
  "kernelspec": {
   "display_name": "Python 3 (ipykernel)",
   "language": "python",
   "name": "python3"
  },
  "language_info": {
   "codemirror_mode": {
    "name": "ipython",
    "version": 3
   },
   "file_extension": ".py",
   "mimetype": "text/x-python",
   "name": "python",
   "nbconvert_exporter": "python",
   "pygments_lexer": "ipython3",
   "version": "3.9.7"
  }
 },
 "nbformat": 4,
 "nbformat_minor": 5
}
